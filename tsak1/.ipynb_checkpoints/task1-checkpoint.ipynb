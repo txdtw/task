{
 "cells": [
  {
   "cell_type": "code",
   "execution_count": 1,
   "metadata": {},
   "outputs": [],
   "source": [
    "import numpy as np\n",
    "import tensorflow as tf\n",
    "from tensorflow import keras"
   ]
  },
  {
   "cell_type": "markdown",
   "metadata": {},
   "source": [
    "检查tensorflow的版本"
   ]
  },
  {
   "cell_type": "code",
   "execution_count": 2,
   "metadata": {},
   "outputs": [
    {
     "name": "stdout",
     "output_type": "stream",
     "text": [
      "1.14.0\n"
     ]
    }
   ],
   "source": [
    "print(tf.__version__)"
   ]
  },
  {
   "cell_type": "markdown",
   "metadata": {},
   "source": [
    "下载数据集"
   ]
  },
  {
   "cell_type": "code",
   "execution_count": 3,
   "metadata": {},
   "outputs": [],
   "source": [
    "imdb = keras.datasets.imdb"
   ]
  },
  {
   "cell_type": "code",
   "execution_count": 4,
   "metadata": {},
   "outputs": [
    {
     "name": "stdout",
     "output_type": "stream",
     "text": [
      "Downloading data from https://storage.googleapis.com/tensorflow/tf-keras-datasets/imdb.npz\n",
      "17465344/17464789 [==============================] - 5s 0us/step\n"
     ]
    }
   ],
   "source": [
    "(train_data, train_labels), (test_data, test_labels) = imdb.load_data(num_words=10000)"
   ]
  },
  {
   "cell_type": "markdown",
   "metadata": {},
   "source": [
    "观察维度"
   ]
  },
  {
   "cell_type": "code",
   "execution_count": 7,
   "metadata": {},
   "outputs": [
    {
     "name": "stdout",
     "output_type": "stream",
     "text": [
      "(25000,)\n",
      "(25000,)\n",
      "(25000,)\n",
      "(25000,)\n"
     ]
    }
   ],
   "source": [
    "print(train_data.shape)\n",
    "print(train_labels.shape)\n",
    "print(test_data.shape)\n",
    "print(test_labels.shape)"
   ]
  },
  {
   "cell_type": "code",
   "execution_count": 11,
   "metadata": {},
   "outputs": [
    {
     "name": "stdout",
     "output_type": "stream",
     "text": [
      "Training entries: 25000, labels: 25000\n"
     ]
    }
   ],
   "source": [
    "print(\"Training entries: {}, labels: {}\".format(len(train_data), len(train_labels)))"
   ]
  },
  {
   "cell_type": "markdown",
   "metadata": {},
   "source": [
    "观察第一条影评"
   ]
  },
  {
   "cell_type": "code",
   "execution_count": 13,
   "metadata": {},
   "outputs": [
    {
     "name": "stdout",
     "output_type": "stream",
     "text": [
      "[1, 14, 22, 16, 43, 530, 973, 1622, 1385, 65, 458, 4468, 66, 3941, 4, 173, 36, 256, 5, 25, 100, 43, 838, 112, 50, 670, 2, 9, 35, 480, 284, 5, 150, 4, 172, 112, 167, 2, 336, 385, 39, 4, 172, 4536, 1111, 17, 546, 38, 13, 447, 4, 192, 50, 16, 6, 147, 2025, 19, 14, 22, 4, 1920, 4613, 469, 4, 22, 71, 87, 12, 16, 43, 530, 38, 76, 15, 13, 1247, 4, 22, 17, 515, 17, 12, 16, 626, 18, 2, 5, 62, 386, 12, 8, 316, 8, 106, 5, 4, 2223, 5244, 16, 480, 66, 3785, 33, 4, 130, 12, 16, 38, 619, 5, 25, 124, 51, 36, 135, 48, 25, 1415, 33, 6, 22, 12, 215, 28, 77, 52, 5, 14, 407, 16, 82, 2, 8, 4, 107, 117, 5952, 15, 256, 4, 2, 7, 3766, 5, 723, 36, 71, 43, 530, 476, 26, 400, 317, 46, 7, 4, 2, 1029, 13, 104, 88, 4, 381, 15, 297, 98, 32, 2071, 56, 26, 141, 6, 194, 7486, 18, 4, 226, 22, 21, 134, 476, 26, 480, 5, 144, 30, 5535, 18, 51, 36, 28, 224, 92, 25, 104, 4, 226, 65, 16, 38, 1334, 88, 12, 16, 283, 5, 16, 4472, 113, 103, 32, 15, 16, 5345, 19, 178, 32]\n"
     ]
    }
   ],
   "source": [
    "print(train_data[0])"
   ]
  },
  {
   "cell_type": "markdown",
   "metadata": {},
   "source": [
    "观察影评长度，RNN好像可以设置处理长度不同的输入序列。\n",
    "这边有两种选择：\n",
    "1.将序列变成长度一样的\n",
    "2.构造网络，处理可变序列"
   ]
  },
  {
   "cell_type": "code",
   "execution_count": 16,
   "metadata": {},
   "outputs": [
    {
     "data": {
      "text/plain": [
       "(233, 550)"
      ]
     },
     "execution_count": 16,
     "metadata": {},
     "output_type": "execute_result"
    }
   ],
   "source": [
    "len(train_data[8]), len(train_data[3])"
   ]
  },
  {
   "cell_type": "markdown",
   "metadata": {},
   "source": [
    "将整数转换为字词"
   ]
  },
  {
   "cell_type": "markdown",
   "metadata": {},
   "source": [
    "了解如何将整数转换回文本可能很有用。在以下代码中，我们将创建一个辅助函数来查询包含整数到字符串映射的字典对象："
   ]
  },
  {
   "cell_type": "code",
   "execution_count": 24,
   "metadata": {},
   "outputs": [],
   "source": [
    "# A dictionary mapping words to an integer index\n",
    "word_index = imdb.get_word_index()#一个编码的字典\n",
    "\n",
    "# The first indices are reserved\n",
    "word_index = {k:(v+3) for k,v in word_index.items()}\n",
    "word_index[\"<PAD>\"] = 0\n",
    "word_index[\"<START>\"] = 1\n",
    "word_index[\"<UNK>\"] = 2  # unknown\n",
    "word_index[\"<UNUSED>\"] = 3\n",
    "\n",
    "reverse_word_index = dict([(value, key) for (key, value) in word_index.items()])\n",
    "\n",
    "def decode_review(text):\n",
    "    return ' '.join([reverse_word_index.get(i, '?') for i in text])"
   ]
  },
  {
   "cell_type": "markdown",
   "metadata": {},
   "source": [
    "转换一条文本"
   ]
  },
  {
   "cell_type": "code",
   "execution_count": 28,
   "metadata": {},
   "outputs": [
    {
     "name": "stdout",
     "output_type": "stream",
     "text": [
      "<START> this film was just brilliant casting location scenery story direction everyone's really suited the part they played and you could just imagine being there robert <UNK> is an amazing actor and now the same being director <UNK> father came from the same scottish island as myself so i loved the fact there was a real connection with this film the witty remarks throughout the film were great it was just brilliant so much that i bought the film as soon as it was released for <UNK> and would recommend it to everyone to watch and the fly fishing was amazing really cried at the end it was so sad and you know what they say if you cry at a film it must have been good and this definitely was also <UNK> to the two little boy's that played the <UNK> of norman and paul they were just brilliant children are often left out of the <UNK> list i think because the stars that play them all grown up are such a big profile for the whole film but these children are amazing and should be praised for what they have done don't you think the whole story was so lovely because it was true and was someone's life after all that was shared with us all\n"
     ]
    }
   ],
   "source": [
    "print(decode_review(train_data[0]))"
   ]
  },
  {
   "cell_type": "markdown",
   "metadata": {},
   "source": [
    "准备数据\n",
    "影评（整数数组）必须转换为张量，然后才能馈送到神经网络中。我们可以通过以下两种方法实现这种转换：\n",
    "\n",
    "对数组进行独热编码，将它们转换为由 0 和 1 构成的向量。例如，序列 [3, 5] 将变成一个 10000 维的向量，除索引 3 和 5 转换为 1 之外，其余全转换为 0。然后，将它作为网络的第一层，一个可以处理浮点向量数据的密集层。不过，这种方法会占用大量内存，需要一个大小为 num_words * num_reviews 的矩阵。\n",
    "\n",
    "或者，我们可以填充数组，使它们都具有相同的长度，然后创建一个形状为 max_length * num_reviews 的整数张量。我们可以使用一个能够处理这种形状的嵌入层作为网络中的第一层。\n",
    "\n",
    "在本教程中，我们将使用第二种方法。\n",
    "\n",
    "由于影评的长度必须相同，我们将使用 pad_sequences 函数将长度标准化："
   ]
  },
  {
   "cell_type": "code",
   "execution_count": 29,
   "metadata": {},
   "outputs": [],
   "source": [
    "train_data = keras.preprocessing.sequence.pad_sequences(train_data,\n",
    "                                                        value=word_index[\"<PAD>\"],\n",
    "                                                        padding='post',\n",
    "                                                        maxlen=256)\n",
    "\n",
    "test_data = keras.preprocessing.sequence.pad_sequences(test_data,\n",
    "                                                       value=word_index[\"<PAD>\"],\n",
    "                                                       padding='post',\n",
    "                                                       maxlen=256)"
   ]
  },
  {
   "cell_type": "code",
   "execution_count": 31,
   "metadata": {},
   "outputs": [
    {
     "data": {
      "text/plain": [
       "(256, 256)"
      ]
     },
     "execution_count": 31,
     "metadata": {},
     "output_type": "execute_result"
    }
   ],
   "source": [
    "len(train_data[9]), len(train_data[1])"
   ]
  },
  {
   "cell_type": "code",
   "execution_count": 34,
   "metadata": {},
   "outputs": [
    {
     "name": "stdout",
     "output_type": "stream",
     "text": [
      "[   1  249 1323    7   61  113   10   10   13 1637   14   20   56   33\n",
      " 2401   18  457   88   13 2626 1400   45 3171   13   70   79   49  706\n",
      "  919   13   16  355  340  355 1696   96  143    4   22   32  289    7\n",
      "   61  369   71 2359    5   13   16  131 2073  249  114  249  229  249\n",
      "   20   13   28  126  110   13  473    8  569   61  419   56  429    6\n",
      " 1513   18   35  534   95  474  570    5   25  124  138   88   12  421\n",
      " 1543   52  725 6397   61  419   11   13 1571   15 1543   20   11    4\n",
      "    2    5  296   12 3524    5   15  421  128   74  233  334  207  126\n",
      "  224   12  562  298 2167 1272    7 2601    5  516  988   43    8   79\n",
      "  120   15  595   13  784   25 3171   18  165  170  143   19   14    5\n",
      " 7224    6  226  251    7   61  113    0    0    0    0    0    0    0\n",
      "    0    0    0    0    0    0    0    0    0    0    0    0    0    0\n",
      "    0    0    0    0    0    0    0    0    0    0    0    0    0    0\n",
      "    0    0    0    0    0    0    0    0    0    0    0    0    0    0\n",
      "    0    0    0    0    0    0    0    0    0    0    0    0    0    0\n",
      "    0    0    0    0    0    0    0    0    0    0    0    0    0    0\n",
      "    0    0    0    0    0    0    0    0    0    0    0    0    0    0\n",
      "    0    0    0    0    0    0    0    0    0    0    0    0    0    0\n",
      "    0    0    0    0]\n"
     ]
    }
   ],
   "source": [
    "print(train_data[4])"
   ]
  },
  {
   "cell_type": "markdown",
   "metadata": {},
   "source": [
    "构建模型\n",
    "神经网络通过堆叠层创建而成，这需要做出两个架构方面的主要决策：\n",
    "\n",
    "要在模型中使用多少个层？\n",
    "要针对每个层使用多少个隐藏单元？\n",
    "在本示例中，输入数据由字词-索引数组构成。要预测的标签是 0 或 1。接下来，我们为此问题构建一个模型："
   ]
  },
  {
   "cell_type": "markdown",
   "metadata": {},
   "source": [
    "引入嵌入层的操作"
   ]
  },
  {
   "cell_type": "code",
   "execution_count": 35,
   "metadata": {},
   "outputs": [
    {
     "name": "stderr",
     "output_type": "stream",
     "text": [
      "WARNING: Logging before flag parsing goes to stderr.\n",
      "W0806 20:40:42.691127  5480 deprecation.py:506] From E:\\ANACONDA\\lib\\site-packages\\tensorflow\\python\\keras\\initializers.py:119: calling RandomUniform.__init__ (from tensorflow.python.ops.init_ops) with dtype is deprecated and will be removed in a future version.\n",
      "Instructions for updating:\n",
      "Call initializer instance with the dtype argument instead of passing it to the constructor\n",
      "W0806 20:40:42.902139  5480 deprecation.py:506] From E:\\ANACONDA\\lib\\site-packages\\tensorflow\\python\\ops\\init_ops.py:1251: calling VarianceScaling.__init__ (from tensorflow.python.ops.init_ops) with dtype is deprecated and will be removed in a future version.\n",
      "Instructions for updating:\n",
      "Call initializer instance with the dtype argument instead of passing it to the constructor\n"
     ]
    },
    {
     "name": "stdout",
     "output_type": "stream",
     "text": [
      "Model: \"sequential\"\n",
      "_________________________________________________________________\n",
      "Layer (type)                 Output Shape              Param #   \n",
      "=================================================================\n",
      "embedding (Embedding)        (None, None, 16)          160000    \n",
      "_________________________________________________________________\n",
      "global_average_pooling1d (Gl (None, 16)                0         \n",
      "_________________________________________________________________\n",
      "dense (Dense)                (None, 16)                272       \n",
      "_________________________________________________________________\n",
      "dense_1 (Dense)              (None, 1)                 17        \n",
      "=================================================================\n",
      "Total params: 160,289\n",
      "Trainable params: 160,289\n",
      "Non-trainable params: 0\n",
      "_________________________________________________________________\n"
     ]
    }
   ],
   "source": [
    "# input shape is the vocabulary count used for the movie reviews (10,000 words)\n",
    "vocab_size = 10000\n",
    "\n",
    "model = keras.Sequential()\n",
    "model.add(keras.layers.Embedding(vocab_size, 16))\n",
    "model.add(keras.layers.GlobalAveragePooling1D())\n",
    "model.add(keras.layers.Dense(16, activation=tf.nn.relu))\n",
    "model.add(keras.layers.Dense(1, activation=tf.nn.sigmoid))\n",
    "\n",
    "model.summary()"
   ]
  },
  {
   "cell_type": "markdown",
   "metadata": {},
   "source": [
    "按顺序堆叠各个层以构建分类器：\n",
    "\n",
    "第一层是 Embedding 层。该层会在整数编码的词汇表中查找每个字词-索引的嵌入向量。模型在接受训练时会学习这些向量。这些向量会向输出数组添加一个维度。生成的维度为：(batch, sequence, embedding)。\n",
    "接下来，一个 GlobalAveragePooling1D 层通过对序列维度求平均值，针对每个样本返回一个长度固定的输出向量。这样，模型便能够以尽可能简单的方式处理各种长度的输入。\n",
    "该长度固定的输出向量会传入一个全连接 (Dense) 层（包含 16 个隐藏单元）。\n",
    "最后一层与单个输出节点密集连接。应用 sigmoid 激活函数后，结果是介于 0 到 1 之间的浮点值，表示概率或置信水平。\n",
    "隐藏单元\n",
    "上述模型在输入和输出之间有两个中间层（也称为“隐藏”层）。输出（单元、节点或神经元）的数量是相应层的表示法空间的维度。换句话说，该数值表示学习内部表示法时网络所允许的自由度。\n",
    "\n",
    "如果模型具有更多隐藏单元（更高维度的表示空间）和/或更多层，则说明网络可以学习更复杂的表示法。不过，这会使网络耗费更多计算资源，并且可能导致学习不必要的模式（可以优化在训练数据上的表现，但不会优化在测试数据上的表现）。这称为过拟合，我们稍后会加以探讨。\n",
    "\n",
    "损失函数和优化器\n",
    "模型在训练时需要一个损失函数和一个优化器。由于这是一个二元分类问题且模型会输出一个概率（应用 S 型激活函数的单个单元层），因此我们将使用 binary_crossentropy 损失函数。\n",
    "\n",
    "该函数并不是唯一的损失函数，例如，您可以选择 mean_squared_error。但一般来说，binary_crossentropy 更适合处理概率问题，它可测量概率分布之间的“差距”，在本例中则为实际分布和预测之间的“差距”。\n",
    "\n",
    "稍后，在探索回归问题（比如预测房价）时，我们将了解如何使用另一个称为均方误差的损失函数。\n",
    "\n",
    "现在，配置模型以使用优化器和损失函数："
   ]
  },
  {
   "cell_type": "code",
   "execution_count": 36,
   "metadata": {},
   "outputs": [
    {
     "name": "stderr",
     "output_type": "stream",
     "text": [
      "W0806 20:42:44.459092  5480 deprecation.py:323] From E:\\ANACONDA\\lib\\site-packages\\tensorflow\\python\\ops\\nn_impl.py:180: add_dispatch_support.<locals>.wrapper (from tensorflow.python.ops.array_ops) is deprecated and will be removed in a future version.\n",
      "Instructions for updating:\n",
      "Use tf.where in 2.0, which has the same broadcast rule as np.where\n"
     ]
    }
   ],
   "source": [
    "model.compile(optimizer=tf.train.AdamOptimizer(),\n",
    "              loss='binary_crossentropy',\n",
    "              metrics=['accuracy'])"
   ]
  },
  {
   "cell_type": "markdown",
   "metadata": {},
   "source": [
    "创建验证集\n",
    "在训练时，我们需要检查模型处理从未见过的数据的准确率。我们从原始训练数据中分离出 10000 个样本，创建一个验证集。（为什么现在不使用测试集？我们的目标是仅使用训练数据开发和调整模型，然后仅使用一次测试数据评估准确率。）"
   ]
  },
  {
   "cell_type": "code",
   "execution_count": 37,
   "metadata": {},
   "outputs": [],
   "source": [
    "x_val = train_data[:10000]\n",
    "partial_x_train = train_data[10000:]\n",
    "\n",
    "y_val = train_labels[:10000]\n",
    "partial_y_train = train_labels[10000:]"
   ]
  },
  {
   "cell_type": "markdown",
   "metadata": {},
   "source": [
    "训练模型\n",
    "用有 512 个样本的小批次训练模型 40 个周期。这将对 x_train 和 y_train 张量中的所有样本进行 40 次迭代。在训练期间，监控模型在验证集的 10000 个样本上的损失和准确率："
   ]
  },
  {
   "cell_type": "code",
   "execution_count": 38,
   "metadata": {
    "collapsed": true
   },
   "outputs": [
    {
     "name": "stdout",
     "output_type": "stream",
     "text": [
      "Train on 15000 samples, validate on 10000 samples\n",
      "Epoch 1/40\n",
      "15000/15000 [==============================] - 2s 128us/sample - loss: 0.6913 - acc: 0.5948 - val_loss: 0.6887 - val_acc: 0.6723\n",
      "Epoch 2/40\n",
      "15000/15000 [==============================] - 1s 70us/sample - loss: 0.6842 - acc: 0.6969 - val_loss: 0.6792 - val_acc: 0.7268\n",
      "Epoch 3/40\n",
      "15000/15000 [==============================] - 1s 69us/sample - loss: 0.6701 - acc: 0.7387 - val_loss: 0.6622 - val_acc: 0.7344\n",
      "Epoch 4/40\n",
      "15000/15000 [==============================] - 1s 69us/sample - loss: 0.6469 - acc: 0.7629 - val_loss: 0.6360 - val_acc: 0.7415\n",
      "Epoch 5/40\n",
      "15000/15000 [==============================] - 1s 70us/sample - loss: 0.6138 - acc: 0.7891 - val_loss: 0.6016 - val_acc: 0.7798\n",
      "Epoch 6/40\n",
      "15000/15000 [==============================] - 1s 68us/sample - loss: 0.5725 - acc: 0.8141 - val_loss: 0.5620 - val_acc: 0.8113\n",
      "Epoch 7/40\n",
      "15000/15000 [==============================] - 1s 70us/sample - loss: 0.5264 - acc: 0.8357 - val_loss: 0.5191 - val_acc: 0.8236\n",
      "Epoch 8/40\n",
      "15000/15000 [==============================] - 1s 69us/sample - loss: 0.4803 - acc: 0.8517 - val_loss: 0.4790 - val_acc: 0.8368\n",
      "Epoch 9/40\n",
      "15000/15000 [==============================] - 1s 68us/sample - loss: 0.4370 - acc: 0.8661 - val_loss: 0.4429 - val_acc: 0.8458\n",
      "Epoch 10/40\n",
      "15000/15000 [==============================] - 1s 68us/sample - loss: 0.3985 - acc: 0.8760 - val_loss: 0.4127 - val_acc: 0.8530\n",
      "Epoch 11/40\n",
      "15000/15000 [==============================] - 1s 71us/sample - loss: 0.3656 - acc: 0.8851 - val_loss: 0.3874 - val_acc: 0.8606\n",
      "Epoch 12/40\n",
      "15000/15000 [==============================] - 1s 69us/sample - loss: 0.3373 - acc: 0.8919 - val_loss: 0.3669 - val_acc: 0.8637\n",
      "Epoch 13/40\n",
      "15000/15000 [==============================] - 1s 69us/sample - loss: 0.3135 - acc: 0.8967 - val_loss: 0.3490 - val_acc: 0.8696\n",
      "Epoch 14/40\n",
      "15000/15000 [==============================] - 1s 69us/sample - loss: 0.2920 - acc: 0.9025 - val_loss: 0.3357 - val_acc: 0.8731\n",
      "Epoch 15/40\n",
      "15000/15000 [==============================] - 1s 71us/sample - loss: 0.2742 - acc: 0.9063 - val_loss: 0.3251 - val_acc: 0.8745\n",
      "Epoch 16/40\n",
      "15000/15000 [==============================] - 1s 69us/sample - loss: 0.2582 - acc: 0.9120 - val_loss: 0.3161 - val_acc: 0.8748\n",
      "Epoch 17/40\n",
      "15000/15000 [==============================] - 1s 69us/sample - loss: 0.2436 - acc: 0.9162 - val_loss: 0.3086 - val_acc: 0.8781\n",
      "Epoch 18/40\n",
      "15000/15000 [==============================] - 1s 68us/sample - loss: 0.2308 - acc: 0.9212 - val_loss: 0.3025 - val_acc: 0.8813\n",
      "Epoch 19/40\n",
      "15000/15000 [==============================] - 1s 69us/sample - loss: 0.2193 - acc: 0.9235 - val_loss: 0.2973 - val_acc: 0.8821\n",
      "Epoch 20/40\n",
      "15000/15000 [==============================] - 1s 70us/sample - loss: 0.2090 - acc: 0.9277 - val_loss: 0.2938 - val_acc: 0.8828\n",
      "Epoch 21/40\n",
      "15000/15000 [==============================] - 1s 69us/sample - loss: 0.1986 - acc: 0.9334 - val_loss: 0.2907 - val_acc: 0.8833\n",
      "Epoch 22/40\n",
      "15000/15000 [==============================] - 1s 68us/sample - loss: 0.1898 - acc: 0.9363 - val_loss: 0.2886 - val_acc: 0.8839\n",
      "Epoch 23/40\n",
      "15000/15000 [==============================] - 1s 69us/sample - loss: 0.1811 - acc: 0.9409 - val_loss: 0.2875 - val_acc: 0.8829\n",
      "Epoch 24/40\n",
      "15000/15000 [==============================] - 1s 69us/sample - loss: 0.1736 - acc: 0.9437 - val_loss: 0.2856 - val_acc: 0.8849\n",
      "Epoch 25/40\n",
      "15000/15000 [==============================] - 1s 69us/sample - loss: 0.1658 - acc: 0.9469 - val_loss: 0.2846 - val_acc: 0.8853\n",
      "Epoch 26/40\n",
      "15000/15000 [==============================] - 1s 67us/sample - loss: 0.1590 - acc: 0.9499 - val_loss: 0.2853 - val_acc: 0.8842\n",
      "Epoch 27/40\n",
      "15000/15000 [==============================] - 1s 68us/sample - loss: 0.1525 - acc: 0.9530 - val_loss: 0.2849 - val_acc: 0.8844\n",
      "Epoch 28/40\n",
      "15000/15000 [==============================] - 1s 69us/sample - loss: 0.1463 - acc: 0.9549 - val_loss: 0.2852 - val_acc: 0.8860\n",
      "Epoch 29/40\n",
      "15000/15000 [==============================] - 1s 68us/sample - loss: 0.1410 - acc: 0.9577 - val_loss: 0.2876 - val_acc: 0.8836\n",
      "Epoch 30/40\n",
      "15000/15000 [==============================] - 1s 68us/sample - loss: 0.1354 - acc: 0.9595 - val_loss: 0.2868 - val_acc: 0.8858\n",
      "Epoch 31/40\n",
      "15000/15000 [==============================] - 1s 68us/sample - loss: 0.1297 - acc: 0.9619 - val_loss: 0.2882 - val_acc: 0.8861\n",
      "Epoch 32/40\n",
      "15000/15000 [==============================] - 1s 69us/sample - loss: 0.1246 - acc: 0.9650 - val_loss: 0.2899 - val_acc: 0.8859\n",
      "Epoch 33/40\n",
      "15000/15000 [==============================] - ETA: 0s - loss: 0.1199 - acc: 0.966 - 1s 68us/sample - loss: 0.1197 - acc: 0.9665 - val_loss: 0.2924 - val_acc: 0.8838\n",
      "Epoch 34/40\n",
      "15000/15000 [==============================] - 1s 68us/sample - loss: 0.1154 - acc: 0.9676 - val_loss: 0.2942 - val_acc: 0.8854\n",
      "Epoch 35/40\n",
      "15000/15000 [==============================] - 1s 68us/sample - loss: 0.1112 - acc: 0.9685 - val_loss: 0.2976 - val_acc: 0.8853\n",
      "Epoch 36/40\n",
      "15000/15000 [==============================] - 1s 69us/sample - loss: 0.1069 - acc: 0.9715 - val_loss: 0.2993 - val_acc: 0.8848\n",
      "Epoch 37/40\n",
      "15000/15000 [==============================] - 1s 69us/sample - loss: 0.1028 - acc: 0.9724 - val_loss: 0.3018 - val_acc: 0.8843\n",
      "Epoch 38/40\n",
      "15000/15000 [==============================] - 1s 69us/sample - loss: 0.0989 - acc: 0.9737 - val_loss: 0.3056 - val_acc: 0.8833\n",
      "Epoch 39/40\n",
      "15000/15000 [==============================] - 1s 70us/sample - loss: 0.0958 - acc: 0.9749 - val_loss: 0.3090 - val_acc: 0.8822\n",
      "Epoch 40/40\n",
      "15000/15000 [==============================] - 1s 69us/sample - loss: 0.0918 - acc: 0.9769 - val_loss: 0.3113 - val_acc: 0.8824\n"
     ]
    }
   ],
   "source": [
    "history = model.fit(partial_x_train,\n",
    "                    partial_y_train,\n",
    "                    epochs=40,\n",
    "                    batch_size=512,\n",
    "                    validation_data=(x_val, y_val),\n",
    "                    verbose=1)"
   ]
  },
  {
   "cell_type": "markdown",
   "metadata": {},
   "source": [
    "评估模型\n",
    "我们来看看模型的表现如何。模型会返回两个值：损失（表示误差的数字，越低越好）和准确率。"
   ]
  },
  {
   "cell_type": "code",
   "execution_count": 39,
   "metadata": {},
   "outputs": [
    {
     "name": "stdout",
     "output_type": "stream",
     "text": [
      "25000/25000 [==============================] - 1s 21us/sample - loss: 0.3328 - acc: 0.8718\n",
      "[0.3328093808555603, 0.8718]\n"
     ]
    }
   ],
   "source": [
    "results = model.evaluate(test_data, test_labels)\n",
    "\n",
    "print(results)"
   ]
  },
  {
   "cell_type": "markdown",
   "metadata": {},
   "source": [
    "创建准确率和损失随时间变化的图\n",
    "model.fit() 返回一个 History 对象，该对象包含一个字典，其中包括训练期间发生的所有情况："
   ]
  },
  {
   "cell_type": "code",
   "execution_count": 40,
   "metadata": {},
   "outputs": [
    {
     "data": {
      "text/plain": [
       "dict_keys(['loss', 'acc', 'val_loss', 'val_acc'])"
      ]
     },
     "execution_count": 40,
     "metadata": {},
     "output_type": "execute_result"
    }
   ],
   "source": [
    "history_dict = history.history\n",
    "history_dict.keys()"
   ]
  },
  {
   "cell_type": "markdown",
   "metadata": {},
   "source": [
    "一共有 4 个条目：每个条目对应训练和验证期间的一个受监控指标。我们可以使用这些指标绘制训练损失与验证损失图表以进行对比，并绘制训练准确率与验证准确率图表："
   ]
  },
  {
   "cell_type": "code",
   "execution_count": 41,
   "metadata": {},
   "outputs": [],
   "source": [
    "import matplotlib.pyplot as plt\n",
    "%matplotlib inline"
   ]
  },
  {
   "cell_type": "code",
   "execution_count": 42,
   "metadata": {},
   "outputs": [
    {
     "data": {
      "image/png": "[encoded data removed]",
      "text/plain": [
       "<Figure size 432x288 with 1 Axes>"
      ]
     },
     "metadata": {
      "needs_background": "light"
     },
     "output_type": "display_data"
    }
   ],
   "source": [
    "acc = history.history['acc']\n",
    "val_acc = history.history['val_acc']\n",
    "loss = history.history['loss']\n",
    "val_loss = history.history['val_loss']\n",
    "\n",
    "epochs = range(1, len(acc) + 1)\n",
    "\n",
    "# \"bo\" is for \"blue dot\"\n",
    "plt.plot(epochs, loss, 'bo', label='Training loss')\n",
    "# b is for \"solid blue line\"\n",
    "plt.plot(epochs, val_loss, 'b', label='Validation loss')\n",
    "plt.title('Training and validation loss')\n",
    "plt.xlabel('Epochs')\n",
    "plt.ylabel('Loss')\n",
    "plt.legend()\n",
    "\n",
    "plt.show()"
   ]
  },
  {
   "cell_type": "code",
   "execution_count": 43,
   "metadata": {},
   "outputs": [
    {
     "data": {
      "text/plain": [
       "<matplotlib.legend.Legend at 0x2cc47c50>"
      ]
     },
     "execution_count": 43,
     "metadata": {},
     "output_type": "execute_result"
    },
    {
     "data": {
      "image/png": "[encoded data removed]",
      "text/plain": [
       "<Figure size 432x288 with 1 Axes>"
      ]
     },
     "metadata": {
      "needs_background": "light"
     },
     "output_type": "display_data"
    }
   ],
   "source": [
    "plt.clf()   # clear figure\n",
    "acc_values = history_dict['acc']\n",
    "val_acc_values = history_dict['val_acc']\n",
    "\n",
    "plt.plot(epochs, acc, 'bo', label='Training acc')\n",
    "plt.plot(epochs, val_acc, 'b', label='Validation acc')\n",
    "plt.title('Training and validation accuracy')\n",
    "plt.xlabel('Epochs')\n",
    "plt.ylabel('Accuracy')\n",
    "plt.legend()\n"
   ]
  },
  {
   "cell_type": "code",
   "execution_count": null,
   "metadata": {},
   "outputs": [],
   "source": []
  },
  {
   "cell_type": "code",
   "execution_count": null,
   "metadata": {},
   "outputs": [],
   "source": []
  },
  {
   "cell_type": "code",
   "execution_count": null,
   "metadata": {},
   "outputs": [],
   "source": []
  }
 ],
 "metadata": {
  "kernelspec": {
   "display_name": "Python 3",
   "language": "python",
   "name": "python3"
  },
  "language_info": {
   "codemirror_mode": {
    "name": "ipython",
    "version": 3
   },
   "file_extension": ".py",
   "mimetype": "text/x-python",
   "name": "python",
   "nbconvert_exporter": "python",
   "pygments_lexer": "ipython3",
   "version": "3.7.3"
  }
 },
 "nbformat": 4,
 "nbformat_minor": 2
}
