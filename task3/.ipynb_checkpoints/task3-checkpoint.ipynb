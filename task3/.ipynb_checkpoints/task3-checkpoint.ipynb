{
 "cells": [
  {
   "cell_type": "code",
   "execution_count": 1,
   "metadata": {},
   "outputs": [],
   "source": [
    "import tensorflow as tf\n",
    "import numpy as np"
   ]
  },
  {
   "cell_type": "markdown",
   "metadata": {},
   "source": [
    "# 1. TF-IDF原理。"
   ]
  },
  {
   "cell_type": "markdown",
   "metadata": {},
   "source": [
    "TF-IDF是Term Frequency -  Inverse Document Frequency的缩写，即“词频-逆文本频率”。它由两部分组成，TF和IDF。"
   ]
  },
  {
   "cell_type": "markdown",
   "metadata": {},
   "source": [
    "指的是不仅仅依靠频率构造词向量,而是根据重要性和频率共同确定词向量"
   ]
  },
  {
   "cell_type": "markdown",
   "metadata": {},
   "source": [
    "# 2. 文本矩阵化，使用词袋模型，以TF-IDF特征值为权重。（可以使用Python中TfidfTransformer库）"
   ]
  },
  {
   "cell_type": "code",
   "execution_count": 4,
   "metadata": {},
   "outputs": [],
   "source": [
    "data=['我爱中国共产党',\n",
    "      '特征抽取通常根据某个特征评估函数计算每个特征的评分值',\n",
    "      '春节放鞭炮',\n",
    "      '利用生成后的模型对测试数据进行正负性的立场预测'\n",
    "     ]"
   ]
  },
  {
   "cell_type": "code",
   "execution_count": 5,
   "metadata": {},
   "outputs": [],
   "source": [
    "import jieba"
   ]
  },
  {
   "cell_type": "code",
   "execution_count": 8,
   "metadata": {},
   "outputs": [],
   "source": [
    "b = []\n",
    "for i in data:\n",
    "    a=jieba.lcut(i)\n",
    "    b.append(a)"
   ]
  },
  {
   "cell_type": "code",
   "execution_count": 10,
   "metadata": {},
   "outputs": [
    {
     "name": "stdout",
     "output_type": "stream",
     "text": [
      "[['我', '爱', '中国共产党'], ['特征', '抽取', '通常', '根据', '某个', '特征', '评估', '函数', '计算', '每个', '特征', '的', '评分', '值'], ['春节', '放鞭炮'], ['利用', '生成', '后', '的', '模型', '对', '测试数据', '进行', '正负', '性', '的', '立场', '预测']]\n"
     ]
    }
   ],
   "source": [
    "print(b)"
   ]
  },
  {
   "cell_type": "code",
   "execution_count": 11,
   "metadata": {},
   "outputs": [],
   "source": [
    "from sklearn.feature_extraction.text import TfidfTransformer  \n",
    "from sklearn.feature_extraction.text import CountVectorizer "
   ]
  },
  {
   "cell_type": "code",
   "execution_count": 12,
   "metadata": {},
   "outputs": [],
   "source": [
    "countvectorizer = CountVectorizer()"
   ]
  },
  {
   "cell_type": "code",
   "execution_count": 13,
   "metadata": {},
   "outputs": [],
   "source": [
    "w=[]\n",
    "for i in b:\n",
    "    for j in i:\n",
    "        w.append(j)"
   ]
  },
  {
   "cell_type": "code",
   "execution_count": 14,
   "metadata": {},
   "outputs": [
    {
     "name": "stdout",
     "output_type": "stream",
     "text": [
      "['我', '爱', '中国共产党', '特征', '抽取', '通常', '根据', '某个', '特征', '评估', '函数', '计算', '每个', '特征', '的', '评分', '值', '春节', '放鞭炮', '利用', '生成', '后', '的', '模型', '对', '测试数据', '进行', '正负', '性', '的', '立场', '预测']\n"
     ]
    }
   ],
   "source": [
    "print(w)"
   ]
  },
  {
   "cell_type": "code",
   "execution_count": 36,
   "metadata": {},
   "outputs": [],
   "source": [
    "trans = countvectorizer.fit(w)"
   ]
  },
  {
   "cell_type": "code",
   "execution_count": 51,
   "metadata": {},
   "outputs": [
    {
     "name": "stdout",
     "output_type": "stream",
     "text": [
      "我 爱 中国共产党 \n",
      "特征 抽取 通常 根据 某个 特征 评估 函数 计算 每个 特征 的 评分 值 \n",
      "春节 放鞭炮 \n",
      "利用 生成 后 的 模型 对 测试数据 进行 正负 性 的 立场 预测 \n"
     ]
    }
   ],
   "source": [
    "list1 = []\n",
    "for i in b:\n",
    "    q = str()\n",
    "    for j in i:\n",
    "        q += j+' '\n",
    "    list1.append(q)\n",
    "    print(q)\n",
    "    del q\n",
    "    \n",
    "    "
   ]
  },
  {
   "cell_type": "code",
   "execution_count": 53,
   "metadata": {},
   "outputs": [
    {
     "data": {
      "text/plain": [
       "['我 爱 中国共产党 ',\n",
       " '特征 抽取 通常 根据 某个 特征 评估 函数 计算 每个 特征 的 评分 值 ',\n",
       " '春节 放鞭炮 ',\n",
       " '利用 生成 后 的 模型 对 测试数据 进行 正负 性 的 立场 预测 ']"
      ]
     },
     "execution_count": 53,
     "metadata": {},
     "output_type": "execute_result"
    }
   ],
   "source": [
    "list1"
   ]
  },
  {
   "cell_type": "code",
   "execution_count": 63,
   "metadata": {},
   "outputs": [
    {
     "data": {
      "text/plain": [
       "array([[1, 0, 0, 0, 0, 0, 0, 0, 0, 0, 0, 0, 0, 0, 0, 0, 0, 0, 0, 0, 0],\n",
       "       [0, 1, 0, 1, 0, 0, 1, 1, 0, 0, 1, 0, 3, 0, 0, 1, 1, 1, 0, 1, 0],\n",
       "       [0, 0, 0, 0, 1, 1, 0, 0, 0, 0, 0, 0, 0, 0, 0, 0, 0, 0, 0, 0, 0],\n",
       "       [0, 0, 1, 0, 0, 0, 0, 0, 1, 1, 0, 1, 0, 1, 1, 0, 0, 0, 1, 0, 1]])"
      ]
     },
     "execution_count": 63,
     "metadata": {},
     "output_type": "execute_result"
    }
   ],
   "source": [
    "countvectorizer.transform(list1).toarray()"
   ]
  },
  {
   "cell_type": "code",
   "execution_count": 64,
   "metadata": {},
   "outputs": [],
   "source": [
    "tfidtransformer = TfidfTransformer()"
   ]
  },
  {
   "cell_type": "code",
   "execution_count": 68,
   "metadata": {},
   "outputs": [],
   "source": [
    "tfidf = tfidtransformer.fit_transform(countvectorizer.transform(list1))"
   ]
  },
  {
   "cell_type": "code",
   "execution_count": 69,
   "metadata": {},
   "outputs": [
    {
     "name": "stdout",
     "output_type": "stream",
     "text": [
      "  (0, 0)\t1.0\n",
      "  (1, 19)\t0.2357022603955158\n",
      "  (1, 17)\t0.2357022603955158\n",
      "  (1, 16)\t0.2357022603955158\n",
      "  (1, 15)\t0.2357022603955158\n",
      "  (1, 12)\t0.7071067811865475\n",
      "  (1, 10)\t0.2357022603955158\n",
      "  (1, 7)\t0.2357022603955158\n",
      "  (1, 6)\t0.2357022603955158\n",
      "  (1, 3)\t0.2357022603955158\n",
      "  (1, 1)\t0.2357022603955158\n",
      "  (2, 5)\t0.7071067811865476\n",
      "  (2, 4)\t0.7071067811865476\n",
      "  (3, 20)\t0.3535533905932738\n",
      "  (3, 18)\t0.3535533905932738\n",
      "  (3, 14)\t0.3535533905932738\n",
      "  (3, 13)\t0.3535533905932738\n",
      "  (3, 11)\t0.3535533905932738\n",
      "  (3, 9)\t0.3535533905932738\n",
      "  (3, 8)\t0.3535533905932738\n",
      "  (3, 2)\t0.3535533905932738\n"
     ]
    }
   ],
   "source": [
    "print(tfidf)"
   ]
  },
  {
   "cell_type": "code",
   "execution_count": 70,
   "metadata": {},
   "outputs": [
    {
     "name": "stdout",
     "output_type": "stream",
     "text": [
      "[[1.         0.         0.         0.         0.         0.\n",
      "  0.         0.         0.         0.         0.         0.\n",
      "  0.         0.         0.         0.         0.         0.\n",
      "  0.         0.         0.        ]\n",
      " [0.         0.23570226 0.         0.23570226 0.         0.\n",
      "  0.23570226 0.23570226 0.         0.         0.23570226 0.\n",
      "  0.70710678 0.         0.         0.23570226 0.23570226 0.23570226\n",
      "  0.         0.23570226 0.        ]\n",
      " [0.         0.         0.         0.         0.70710678 0.70710678\n",
      "  0.         0.         0.         0.         0.         0.\n",
      "  0.         0.         0.         0.         0.         0.\n",
      "  0.         0.         0.        ]\n",
      " [0.         0.         0.35355339 0.         0.         0.\n",
      "  0.         0.         0.35355339 0.35355339 0.         0.35355339\n",
      "  0.         0.35355339 0.35355339 0.         0.         0.\n",
      "  0.35355339 0.         0.35355339]]\n"
     ]
    }
   ],
   "source": [
    "print(tfidf.toarray())"
   ]
  },
  {
   "cell_type": "markdown",
   "metadata": {},
   "source": [
    "一部提取"
   ]
  },
  {
   "cell_type": "code",
   "execution_count": 73,
   "metadata": {},
   "outputs": [],
   "source": [
    "from sklearn.feature_extraction.text import TfidfVectorizer"
   ]
  },
  {
   "cell_type": "code",
   "execution_count": 74,
   "metadata": {},
   "outputs": [],
   "source": [
    "tfidf_vec = TfidfVectorizer()\n",
    "tfidf_matrix = tfidf_vec.fit_transform(list1)"
   ]
  },
  {
   "cell_type": "code",
   "execution_count": 75,
   "metadata": {},
   "outputs": [
    {
     "name": "stdout",
     "output_type": "stream",
     "text": [
      "['中国共产党', '函数', '利用', '抽取', '放鞭炮', '春节', '某个', '根据', '模型', '正负', '每个', '测试数据', '特征', '生成', '立场', '计算', '评估', '评分', '进行', '通常', '预测']\n",
      "{'中国共产党': 0, '特征': 12, '抽取': 3, '通常': 19, '根据': 7, '某个': 6, '评估': 16, '函数': 1, '计算': 15, '每个': 10, '评分': 17, '春节': 5, '放鞭炮': 4, '利用': 2, '生成': 13, '模型': 8, '测试数据': 11, '进行': 18, '正负': 9, '立场': 14, '预测': 20}\n",
      "[[1.         0.         0.         0.         0.         0.\n",
      "  0.         0.         0.         0.         0.         0.\n",
      "  0.         0.         0.         0.         0.         0.\n",
      "  0.         0.         0.        ]\n",
      " [0.         0.23570226 0.         0.23570226 0.         0.\n",
      "  0.23570226 0.23570226 0.         0.         0.23570226 0.\n",
      "  0.70710678 0.         0.         0.23570226 0.23570226 0.23570226\n",
      "  0.         0.23570226 0.        ]\n",
      " [0.         0.         0.         0.         0.70710678 0.70710678\n",
      "  0.         0.         0.         0.         0.         0.\n",
      "  0.         0.         0.         0.         0.         0.\n",
      "  0.         0.         0.        ]\n",
      " [0.         0.         0.35355339 0.         0.         0.\n",
      "  0.         0.         0.35355339 0.35355339 0.         0.35355339\n",
      "  0.         0.35355339 0.35355339 0.         0.         0.\n",
      "  0.35355339 0.         0.35355339]]\n"
     ]
    }
   ],
   "source": [
    "print(tfidf_vec.get_feature_names())\n",
    "print(tfidf_vec.vocabulary_)\n",
    "print(tfidf_matrix.toarray())"
   ]
  },
  {
   "cell_type": "markdown",
   "metadata": {},
   "source": [
    "两种方式生成的矩阵完全相同"
   ]
  },
  {
   "cell_type": "markdown",
   "metadata": {},
   "source": [
    "# 3. 互信息的原理。"
   ]
  },
  {
   "cell_type": "markdown",
   "metadata": {},
   "source": [
    "其衡量的是两个随机变量之间的相关性，即一个随机变量中包含的关于另一个随机变量的信息量。所谓的随机变量，即随机试验结果的量的表示"
   ]
  },
  {
   "cell_type": "markdown",
   "metadata": {},
   "source": [
    "# 4. 使用第二步生成的特征矩阵，利用互信息进行特征筛选。"
   ]
  },
  {
   "cell_type": "code",
   "execution_count": null,
   "metadata": {},
   "outputs": [],
   "source": []
  }
 ],
 "metadata": {
  "kernelspec": {
   "display_name": "Python 3",
   "language": "python",
   "name": "python3"
  },
  "language_info": {
   "codemirror_mode": {
    "name": "ipython",
    "version": 3
   },
   "file_extension": ".py",
   "mimetype": "text/x-python",
   "name": "python",
   "nbconvert_exporter": "python",
   "pygments_lexer": "ipython3",
   "version": "3.7.3"
  }
 },
 "nbformat": 4,
 "nbformat_minor": 2
}
